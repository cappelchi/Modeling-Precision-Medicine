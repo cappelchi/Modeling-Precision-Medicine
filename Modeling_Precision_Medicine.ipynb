{
  "nbformat": 4,
  "nbformat_minor": 0,
  "metadata": {
    "colab": {
      "name": "Modeling Precision Medicine.ipynb",
      "provenance": [],
      "collapsed_sections": [],
      "authorship_tag": "ABX9TyMk4CMu7KOjdINEVowwHVB9",
      "include_colab_link": true
    },
    "kernelspec": {
      "name": "python3",
      "display_name": "Python 3"
    }
  },
  "cells": [
    {
      "cell_type": "markdown",
      "metadata": {
        "id": "view-in-github",
        "colab_type": "text"
      },
      "source": [
        "<a href=\"https://colab.research.google.com/github/cappelchi/Modeling-Precision-Medicine/blob/master/Modeling_Precision_Medicine.ipynb\" target=\"_parent\"><img src=\"https://colab.research.google.com/assets/colab-badge.svg\" alt=\"Open In Colab\"/></a>"
      ]
    },
    {
      "cell_type": "markdown",
      "metadata": {
        "id": "Cal12uvEwvPQ",
        "colab_type": "text"
      },
      "source": [
        "Associated Publication and Dataset\n",
        "The course uses data presented by Daemen et al. (Modeling precision treatment of breast cancer, Genome Biol. 2013. The researchers tested 90 therapeutic compounds on 70 breast cancer cell lines (out of 84 lines comprising their collection) and determined GI50 — concentrations required to inhibit cell growth by 50%. GI50 can be treated as a measure of efficacy of a given compound for a given breast cancer cell line. In addition to a table with GI50 values, Daemen et al. deposited results of RNA-Seq (GSE4821) for 56 cell lines, including 52 for which GI50 data was also available. Finally, the authors specified an associated breast cancer subtype for each cell line. For this course, we will be using data from those 52 cell lines for which GI50 data was available.\n",
        "\n",
        "ABSTRACT:\n",
        "\n",
        "Background\n",
        "\n",
        "First-generation molecular profiles for human breast cancers have enabled the identification of features that can predict therapeutic response; however, little is known about how the various data types can best be combined to yield optimal predictors. Collections of breast cancer cell lines mirror many aspects of breast cancer molecular pathobiology, and measurements of their omic and biological therapeutic responses are well-suited for development of strategies to identify the most predictive molecular feature sets.\n",
        "\n",
        "Results\n",
        "\n",
        "We used least squares-support vector machines and random forest algorithms to identify molecular features associated with responses of a collection of 70 breast cancer cell lines to 90 experimental or approved therapeutic agents. The datasets analyzed included measurements of copy number aberrations, mutations, gene and isoform expression, promoter methylation and protein expression. Transcriptional subtype contributed strongly to response predictors for 25% of compounds, and adding other molecular data types improved prediction for 65%. No single molecular dataset consistently outperformed the others, suggesting that therapeutic response is mediated at multiple levels in the genome. Response predictors were developed and applied to TCGA data, and were found to be present in subsets of those patient samples.\n",
        "\n",
        "Conclusions\n",
        "\n",
        "These results suggest that matching patients to treatments based on transcriptional subtype will improve response rates, and inclusion of additional features from other profiling data types may provide additional benefit. Further, we suggest a systems biology strategy for guiding clinical trials so that patient cohorts most likely to respond to new therapies may be more efficiently identified.\n",
        "\n",
        "<img src=\"https://raw.githubusercontent.com/cappelchi/Modeling-Precision-Medicine/master/img/CellLines_Pub_Fig.jpg\" width=\"600\" height=\"400\" />\n",
        " \n",
        "\n",
        "FIGURE:\n",
        "\n",
        " \n",
        "\n",
        "\n",
        "\n",
        " \n",
        "\n",
        "Figure 1: Cell line-based response prediction strategy.\n",
        "\n",
        "(A) We assembled a collection of 84 breast cancer cell lines composed of 35 luminal, 27 basal, 10 claudin-low, 7 normal-like, 2 matched normal and 3 of unknown subtype. Fourteen luminal and 7 basal cell lines were also ERBB2-amplified.\n",
        "\n",
        "(B) Seventy lines were tested for response to 138 compounds by growth inhibition assays. Compounds with low variation in response in the cell line panel were eliminated, leaving a response data set of 90 compounds. Cell lines were divided into a sensitive and resistant group for each compound using the mean GI50 value for that compound.\n",
        "\n",
        "(C) Seven pretreatment molecular profiling data sets were analyzed to identify molecular features associated with response. Exome-seq data were available for 75 cell lines, followed by SNP6 data for 74 cell lines, RNAseq for 56, exon array for 56, RPPA for 49, methylation for 47, and U133A expression array data for 46 cell lines. All 70 lines were used in development of at least some predictors depending on data type availability.\n",
        "\n",
        "(D) Classification signatures were developed using the molecular feature data (after filtering) and with response status as the target. Two methods, weighted least squares support vector machine (LS-SVM) and random forests (RF), were utilized. The best performing signature was chosen for each drug and data type combination. This allows prediction of response for additional cell lines or tumors with any given combination of input data types.\n",
        "\n",
        "(E) Cell line-based response predictors were applied to 306 TCGA breast tumors for which expression (Exp), copy number (CNV) and methylation (Meth) measurements were all available.\n",
        "\n",
        "(F) This identified 22 compounds with a model AUC >0.7 for which at least some patients were predicted to be responsive with a probability >0.65. Thresholds for considering a tumor responsive were objectively chosen for each compound from the distribution of predicted probabilities and each patient was assigned to a status of resistant, intermediate or sensitive. WPMV, weighted percent of model variables."
      ]
    },
    {
      "cell_type": "code",
      "metadata": {
        "id": "HkMK23t7MuBv",
        "colab_type": "code",
        "colab": {}
      },
      "source": [
        "mypath = '/content/Modeling-Precision-Medicine/'"
      ],
      "execution_count": 0,
      "outputs": []
    },
    {
      "cell_type": "code",
      "metadata": {
        "id": "4199KXyqYxnm",
        "colab_type": "code",
        "outputId": "8bb43bbc-3cb1-4db7-b2fa-5667191347b3",
        "colab": {
          "base_uri": "https://localhost:8080/",
          "height": 464
        }
      },
      "source": [
        "!wget https://raw.githubusercontent.com/cappelchi/Modeling-Precision-Medicine/master/CellLines_Student_ProjectData.zip\n",
        "!unzip CellLines_Student_ProjectData.zip -d {mypath}"
      ],
      "execution_count": 0,
      "outputs": [
        {
          "output_type": "stream",
          "text": [
            "--2020-03-09 22:23:48--  https://raw.githubusercontent.com/cappelchi/Modeling-Precision-Medicine/master/CellLines_Student_ProjectData.zip\n",
            "Resolving raw.githubusercontent.com (raw.githubusercontent.com)... 151.101.0.133, 151.101.64.133, 151.101.128.133, ...\n",
            "Connecting to raw.githubusercontent.com (raw.githubusercontent.com)|151.101.0.133|:443... connected.\n",
            "HTTP request sent, awaiting response... 200 OK\n",
            "Length: 839357 (820K) [application/zip]\n",
            "Saving to: ‘CellLines_Student_ProjectData.zip’\n",
            "\n",
            "\r          CellLines   0%[                    ]       0  --.-KB/s               \rCellLines_Student_P 100%[===================>] 819.68K  --.-KB/s    in 0.05s   \n",
            "\n",
            "2020-03-09 22:23:48 (16.3 MB/s) - ‘CellLines_Student_ProjectData.zip’ saved [839357/839357]\n",
            "\n",
            "Archive:  CellLines_Student_ProjectData.zip\n",
            "   creating: /content/Modeling-Precision-Medicine/CellLines_Student_ProjectData/\n",
            "  inflating: /content/Modeling-Precision-Medicine/CellLines_Student_ProjectData/CellLines_ClinSubtypes.txt  \n",
            "   creating: /content/Modeling-Precision-Medicine/__MACOSX/\n",
            "   creating: /content/Modeling-Precision-Medicine/__MACOSX/CellLines_Student_ProjectData/\n",
            "  inflating: /content/Modeling-Precision-Medicine/__MACOSX/CellLines_Student_ProjectData/._CellLines_ClinSubtypes.txt  \n",
            "  inflating: /content/Modeling-Precision-Medicine/CellLines_Student_ProjectData/CellLines_DrugsInit.txt  \n",
            "  inflating: /content/Modeling-Precision-Medicine/__MACOSX/CellLines_Student_ProjectData/._CellLines_DrugsInit.txt  \n",
            "  inflating: /content/Modeling-Precision-Medicine/CellLines_Student_ProjectData/CellLines_DrugsRes.txt  \n",
            "  inflating: /content/Modeling-Precision-Medicine/__MACOSX/CellLines_Student_ProjectData/._CellLines_DrugsRes.txt  \n",
            "  inflating: /content/Modeling-Precision-Medicine/CellLines_Student_ProjectData/CellLines_ExprData.txt  \n",
            "  inflating: /content/Modeling-Precision-Medicine/__MACOSX/CellLines_Student_ProjectData/._CellLines_ExprData.txt  \n",
            "  inflating: /content/Modeling-Precision-Medicine/__MACOSX/._CellLines_Student_ProjectData  \n"
          ],
          "name": "stdout"
        }
      ]
    },
    {
      "cell_type": "code",
      "metadata": {
        "id": "QJC-bUl9ZVpY",
        "colab_type": "code",
        "colab": {}
      },
      "source": [
        "import pandas as pd\n",
        "from os import listdir\n",
        "from os.path import isfile, join"
      ],
      "execution_count": 0,
      "outputs": []
    },
    {
      "cell_type": "code",
      "metadata": {
        "id": "Q8lNy4nzaIvK",
        "colab_type": "code",
        "colab": {}
      },
      "source": [
        "filespath = '/content/Modeling-Precision-Medicine/CellLines_Student_ProjectData/'"
      ],
      "execution_count": 0,
      "outputs": []
    },
    {
      "cell_type": "code",
      "metadata": {
        "id": "yT-3POczZo8S",
        "colab_type": "code",
        "colab": {}
      },
      "source": [
        "results = [f for f in listdir(filespath) if isfile(join(filespath, f))]"
      ],
      "execution_count": 0,
      "outputs": []
    },
    {
      "cell_type": "code",
      "metadata": {
        "id": "5pGQ5c6-Z3Oz",
        "colab_type": "code",
        "outputId": "bc91faff-9d96-4a02-bb57-6d928407e89f",
        "colab": {
          "base_uri": "https://localhost:8080/",
          "height": 88
        }
      },
      "source": [
        "results"
      ],
      "execution_count": 0,
      "outputs": [
        {
          "output_type": "execute_result",
          "data": {
            "text/plain": [
              "['CellLines_ExprData.txt',\n",
              " 'CellLines_DrugsInit.txt',\n",
              " 'CellLines_DrugsRes.txt',\n",
              " 'CellLines_ClinSubtypes.txt']"
            ]
          },
          "metadata": {
            "tags": []
          },
          "execution_count": 14
        }
      ]
    },
    {
      "cell_type": "code",
      "metadata": {
        "id": "yciDRxDsZ1KS",
        "colab_type": "code",
        "outputId": "82d55fc6-9caf-4f93-e968-6a11a092444e",
        "colab": {
          "base_uri": "https://localhost:8080/",
          "height": 855
        }
      },
      "source": [
        "for result in results:\n",
        "    if result[:10] == 'CellLines_':\n",
        "        df_name = result[10:-4]\n",
        "    else:\n",
        "        df_name = result[:-4]\n",
        "    comand = f'{df_name} = pd.read_csv(\"{filespath + result}\", sep = \"\\s+\"' + ', dtype={\"id\":\"str\"})'\n",
        "    print (comand)\n",
        "    exec(comand)\n",
        "    print (df_name)\n",
        "    exec(f'print ({df_name}.describe())')"
      ],
      "execution_count": 0,
      "outputs": [
        {
          "output_type": "stream",
          "text": [
            "ExprData = pd.read_csv(\"/content/Modeling-Precision-Medicine/CellLines_Student_ProjectData/CellLines_ExprData.txt\", sep = \"\\s+\", dtype={\"id\":\"str\"})\n",
            "ExprData\n",
            "             184A1        184B5  ...       ZR7530        ZR75B\n",
            "count  6916.000000  6916.000000  ...  6916.000000  6916.000000\n",
            "mean      4.347667     4.182436  ...     3.995236     4.227894\n",
            "std       3.167484     3.118536  ...     3.039926     3.179839\n",
            "min      -3.000000    -3.000000  ...    -3.000000    -3.000000\n",
            "25%       3.438750     3.269500  ...     3.006000     3.288750\n",
            "50%       5.027500     4.766000  ...     4.627000     4.920500\n",
            "75%       6.186250     5.931000  ...     5.820000     6.106000\n",
            "max      13.977000    13.831000  ...    14.992000    14.537000\n",
            "\n",
            "[8 rows x 52 columns]\n",
            "DrugsInit = pd.read_csv(\"/content/Modeling-Precision-Medicine/CellLines_Student_ProjectData/CellLines_DrugsInit.txt\", sep = \"\\s+\", dtype={\"id\":\"str\"})\n",
            "DrugsInit\n",
            "          17-AAG      5-FU     5-FdUR  ...  Vinorelbine     XRP44X   ZM447439\n",
            "count  51.000000  50.00000  48.000000  ...    49.000000  46.000000  47.000000\n",
            "mean    7.096275   3.99020   3.958750  ...     7.597755   5.768261   5.065106\n",
            "std     0.709278   0.69404   0.771527  ...     0.855247   0.730225   0.721038\n",
            "min     5.290000   1.72000   2.730000  ...     5.230000   3.880000   4.000000\n",
            "25%     6.750000   3.66000   3.437500  ...     7.370000   5.702500   4.390000\n",
            "50%     7.240000   4.00000   3.780000  ...     7.880000   5.990000   5.120000\n",
            "75%     7.500000   4.48000   4.345000  ...     8.020000   6.147500   5.565000\n",
            "max     8.840000   5.37000   5.810000  ...     9.000000   6.670000   6.390000\n",
            "\n",
            "[8 rows x 90 columns]\n",
            "DrugsRes = pd.read_csv(\"/content/Modeling-Precision-Medicine/CellLines_Student_ProjectData/CellLines_DrugsRes.txt\", sep = \"\\s+\", dtype={\"id\":\"str\"})\n",
            "DrugsRes\n",
            "           184A1      184B5      21MT1  ...      ZR751     ZR7530      ZR75B\n",
            "count  90.000000  90.000000  90.000000  ...  90.000000  90.000000  90.000000\n",
            "mean    5.835301   5.714246   5.531155  ...   5.526275   5.541376   5.580629\n",
            "std     1.311893   1.363880   1.334078  ...   1.242969   1.493168   1.359103\n",
            "min     3.000000   1.720000   2.966880  ...   2.780000   0.771498   2.530000\n",
            "25%     5.000000   4.867500   4.621045  ...   4.622500   4.551600   4.597500\n",
            "50%     5.860000   5.590000   5.295810  ...   5.380000   5.462187   5.480000\n",
            "75%     6.545000   6.554977   6.477211  ...   6.402500   6.572623   6.760000\n",
            "max     8.860000   8.390000   8.907020  ...   8.260000   9.646046   8.630880\n",
            "\n",
            "[8 rows x 52 columns]\n",
            "ClinSubtypes = pd.read_csv(\"/content/Modeling-Precision-Medicine/CellLines_Student_ProjectData/CellLines_ClinSubtypes.txt\", sep = \"\\s+\", dtype={\"id\":\"str\"})\n",
            "ClinSubtypes\n",
            "         Cell_line Transcriptional_subtype\n",
            "count           52                      52\n",
            "unique          52                       4\n",
            "top     MDAMB134VI                 Luminal\n",
            "freq             1                      27\n"
          ],
          "name": "stdout"
        }
      ]
    },
    {
      "cell_type": "code",
      "metadata": {
        "id": "0bVUPJfia9BE",
        "colab_type": "code",
        "colab": {}
      },
      "source": [
        ""
      ],
      "execution_count": 0,
      "outputs": []
    }
  ]
}